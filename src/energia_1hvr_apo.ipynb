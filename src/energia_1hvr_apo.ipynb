{
 "cells": [
  {
   "cell_type": "markdown",
   "metadata": {},
   "source": [
    "## Calc de gradient vector for a cavity. VERY HI PRECISION\n",
    "\n",
    "### Desplazamientos entre -2 y 2"
   ]
  },
  {
   "cell_type": "code",
   "execution_count": 1,
   "metadata": {
    "collapsed": false
   },
   "outputs": [
    {
     "name": "stderr",
     "output_type": "stream",
     "text": [
      "WARNING: New definition \n",
      "    write(Base.IO, ForwardDiff.Partials) at /home/german/.julia/v0.4/ForwardDiff/src/partials.jl:57\n",
      "is ambiguous with: \n",
      "    write(Base.Base64.Base64EncodePipe, AbstractArray{UInt8, 1}) at base64.jl:89.\n",
      "To fix, define \n",
      "    write(Base.Base64.Base64EncodePipe, ForwardDiff.Partials{N<:Any, UInt8})\n",
      "before the new definition.\n",
      "WARNING: New definition \n",
      "    +(AbstractArray{T<:Any, 2}, WoodburyMatrices.SymWoodbury) at /home/german/.julia/v0.4/WoodburyMatrices/src/SymWoodburyMatrices.jl:138\n",
      "is ambiguous with: \n",
      "    +(DataArrays.DataArray, AbstractArray) at /home/german/.julia/v0.4/DataArrays/src/operators.jl:276.\n",
      "To fix, define \n",
      "    +(DataArrays.DataArray{T<:Any, 2}, WoodburyMatrices.SymWoodbury)\n",
      "before the new definition.\n",
      "WARNING: New definition \n",
      "    +(AbstractArray{T<:Any, 2}, WoodburyMatrices.SymWoodbury) at /home/german/.julia/v0.4/WoodburyMatrices/src/SymWoodburyMatrices.jl:138\n",
      "is ambiguous with: \n",
      "    +(DataArrays.AbstractDataArray, AbstractArray) at /home/german/.julia/v0.4/DataArrays/src/operators.jl:300.\n",
      "To fix, define \n",
      "    +(DataArrays.AbstractDataArray{T<:Any, 2}, WoodburyMatrices.SymWoodbury)\n",
      "before the new definition.\n",
      "\u001b[1m\u001b[34mINFO: Precompiling module MIToS.\n",
      "\u001b[0m"
     ]
    }
   ],
   "source": [
    "using DataFrames\n",
    "using Gadfly\n",
    "using Cairo\n",
    "using MIToS.PDB\n",
    "using Distributions\n",
    "set_default_plot_size(40cm, 14cm)"
   ]
  },
  {
   "cell_type": "code",
   "execution_count": 2,
   "metadata": {
    "collapsed": false
   },
   "outputs": [
    {
     "data": {
      "text/plain": [
       "meta_var (generic function with 1 method)"
      ]
     },
     "execution_count": 2,
     "metadata": {},
     "output_type": "execute_result"
    }
   ],
   "source": [
    "function meta_var(s::AbstractString,v::Any)\n",
    "         s=symbol(s) \n",
    "         @eval (($s) = ($v))\n",
    "end"
   ]
  },
  {
   "cell_type": "code",
   "execution_count": 3,
   "metadata": {
    "collapsed": false
   },
   "outputs": [
    {
     "data": {
      "text/plain": [
       "tognm (generic function with 1 method)"
      ]
     },
     "execution_count": 3,
     "metadata": {},
     "output_type": "execute_result"
    }
   ],
   "source": [
    "function tognm(vtor_anm)\n",
    "    vtor_gnm = Array{Float64}(convert(Int64, length(vtor_anm)/3));\n",
    "    vtor_anm =  vtor_anm.^2\n",
    "    for i=1:convert(Int64, length(vtor_anm)/3)\n",
    "        vtor_gnm[i] = sqrt(vtor_anm[i*3-2] + vtor_anm[i*3-1] + vtor_anm[i*3])\n",
    "    end\n",
    "    return vtor_gnm\n",
    "end"
   ]
  },
  {
   "cell_type": "code",
   "execution_count": 4,
   "metadata": {
    "collapsed": false
   },
   "outputs": [
    {
     "data": {
      "text/plain": [
       "read_ptraj_modes (generic function with 2 methods)"
      ]
     },
     "execution_count": 4,
     "metadata": {},
     "output_type": "execute_result"
    }
   ],
   "source": [
    "function read_ptraj_modes(file, modes_elements, norma::Bool=true)    \n",
    "    modes_file=open(file, \"r\")\n",
    "    modes_text = readdlm(modes_file, skipstart=0, skipblanks=true, \n",
    "    ignore_invalid_chars=true, comments=true, comment_char='\\*')\n",
    "    close(modes_file)\n",
    "\n",
    "    nmodes = modes_text[1, 5]\n",
    "    ncoords = convert(Int64, modes_elements)\n",
    "    lines = ceil(Int64, ncoords/7)\n",
    "    rest = convert(Int64, ncoords % 7)\n",
    "    \n",
    "    eval=Array{Float64}(nmodes);\n",
    "    mode = Array{Float64}(ncoords, nmodes);\n",
    "    temp1=Array{Float64}(ncoords, 1);\n",
    "    temp2 = Array{Float64}(ncoords+(7-rest));\n",
    "\n",
    "    j=lines + 1 + 2 # 1 p/ q lea la prox linea 2 por el header\n",
    "\n",
    "    for i=1:nmodes\n",
    "        eval[i] = modes_text[j, 2]\n",
    "        temp = transpose(modes_text[(j+1):(lines+j), :])\n",
    "        temp2 = reshape(temp, ncoords+(7-rest))\n",
    "        for k=(rest+1):7\n",
    "            pop!(temp2)\n",
    "        end\n",
    "    mode[:, i] = temp2\n",
    "        j = j + lines + 1\n",
    "    end\n",
    "    \n",
    "    if norma == true\n",
    "        for i=1:nmodes\n",
    "            mode[: ,i] = mode[:, i] / norm(mode[:, i])\n",
    "        end\n",
    "    end\n",
    "    \n",
    "    return mode, eval\n",
    "end"
   ]
  },
  {
   "cell_type": "code",
   "execution_count": 5,
   "metadata": {
    "collapsed": false
   },
   "outputs": [
    {
     "data": {
      "text/plain": [
       "displaceAA (generic function with 1 method)"
      ]
     },
     "execution_count": 5,
     "metadata": {},
     "output_type": "execute_result"
    }
   ],
   "source": [
    "function displaceAA(mod_pdb, vector1, multiplier)\n",
    "  # Preparo variables\n",
    "   pdb = copy(mod_pdb)\n",
    "   struct_xyz = coordinatesmatrix(pdb)\n",
    "   new_struct_xyz = copy(struct_xyz)\n",
    "   natom = Array{Int64}(1)\n",
    "    vector = Array{Float64}(1, 3)\n",
    "   aa = length(pdb)\n",
    "   # Determino el nro de atomos de c/ aminoácido\n",
    "   for i=1:aa\n",
    "       push!(natom, length(pdb[i]))\n",
    "   end  \n",
    "   shift!(natom)\n",
    "   temp1 = Array{Int64}(natom[1],3)\n",
    "\n",
    "   # Adapto el vector p/ darle la misma forma q la matriz de coordenadas\n",
    "    for i=1:3:length(vector1)\n",
    "        if i== 1\n",
    "            vector = reshape(vector1[i:i+2], 1, 3)\n",
    "            continue\n",
    "        end\n",
    "        vector = vcat(vector, reshape(vector1[i:i+2], 1, 3))\n",
    "    end\n",
    "\n",
    "   for i=1:aa\n",
    "       if i == 1         \n",
    "           temp1 = repmat(vector[i, :], natom[i], 1)\n",
    "           continue\n",
    "       end  \n",
    "       temp2 = repmat(vector[i, :], natom[i], 1)\n",
    "       temp1 = vcat(temp1, temp2)\n",
    "   end  \n",
    "   sum_mat = temp1\n",
    "\n",
    "   # Listo, ahora puedo mover el pdb\n",
    "   new_struct_xyz  = struct_xyz + sum_mat .* multiplier\n",
    "   pdb = change_coordinates(pdb, new_struct_xyz);\n",
    "   return pdb\n",
    "end"
   ]
  },
  {
   "cell_type": "code",
   "execution_count": 6,
   "metadata": {
    "collapsed": false
   },
   "outputs": [
    {
     "data": {
      "text/plain": [
       "WeightedHist (generic function with 2 methods)"
      ]
     },
     "execution_count": 6,
     "metadata": {},
     "output_type": "execute_result"
    }
   ],
   "source": [
    "function WeightedHist(in_vec, in_bins, in_weight, density = false)\n",
    "    # Safety check    \n",
    "    if length(in_vec) != length(in_weight)\n",
    "        println(\"Each element of the input vector needs one weight\")\n",
    "        return\n",
    "    end\n",
    "    \n",
    "    # Prepare variables\n",
    "    out_counts = Array{Float64}(length(in_bins)-1)\n",
    "    \n",
    "    # Get weighted histogram\n",
    "    for i=1:length(in_bins)-1\n",
    "        temp_bool = (in_vec .>= in_bins[i]) & (in_vec .< in_bins[i+1])\n",
    "        out_counts[i] = sum(in_weight[temp_bool])\n",
    "    end\n",
    "    \n",
    "    # Get bins middle points\n",
    "    out_middle = (in_bins[1:end-1] + in_bins[2:end]) / 2\n",
    "    \n",
    "    # Turn counts into density\n",
    "    if (density == true)\n",
    "        out_counts = out_counts ./ sum(out_counts) \n",
    "    end\n",
    "    return out_counts, out_middle\n",
    "end"
   ]
  },
  {
   "cell_type": "markdown",
   "metadata": {},
   "source": [
    "# Gradiente en base de modos de PCA"
   ]
  },
  {
   "cell_type": "markdown",
   "metadata": {},
   "source": [
    "### Preparo variables y leo archivos de pdb y modos."
   ]
  },
  {
   "cell_type": "code",
   "execution_count": 7,
   "metadata": {
    "collapsed": false
   },
   "outputs": [
    {
     "data": {
      "text/plain": [
       "\"/home/german/labo/16/exs/cavities/bu/2_1hvr_apo.cfg\""
      ]
     },
     "execution_count": 7,
     "metadata": {},
     "output_type": "execute_result"
    }
   ],
   "source": [
    "# Preparo variables\n",
    "natom_res = Array{Int64}(1);\n",
    "# Leo el pdb\n",
    "prt_name = \"1hvr_apo\"\n",
    "pdb_filename = string(\"/home/german/labo/16/exs/cavities/bu/avg_\", prt_name, \".pdb\")\n",
    "pdb_pdb = read(pdb_filename, PDBFile, group=\"ATOM\");\n",
    "\n",
    "# Obtengo el número de átomos de c/ residuo\n",
    "for i=1:length(pdb_pdb)\n",
    "    push!(natom_res, length(pdb_pdb[i]))\n",
    "end\n",
    "shift!(natom_res)\n",
    "\n",
    "# Obtengo el nro de aa's\n",
    "aa = length(pdb_pdb)\n",
    "aa3 = aa * 3\n",
    "modo_sum = Array{Float64}(aa, 3);\n",
    "\n",
    "# Arrays p/ guardar volumenes de pockets\n",
    "vol_pocket_mtn = Array{Float64}(aa3-6);\n",
    "vol_ndd = Array{Float64, 2}(0, 2);\n",
    "factorr = Array{Float64}(aa3-6);\n",
    "\n",
    "# Leo los modos de PCA. Ya tienen cortados a los aminoácidos de los extremos.\n",
    "modes_prt, evals_prt = read_ptraj_modes(\"/home/german/labo/16/exs/run/1hvr_apo/pca/modes_1hvr_apo\", aa3);\n",
    "\n",
    "# Template p/ pdbs de salida\n",
    "files_template = \"/home/german/labo/16/exs/cavities/1hvr_apo/\"\n",
    "# Archivos de config de ANA\n",
    "conf_prt_whole = \"/home/german/labo/16/exs/cavities/bu/2_1hvr_apo.cfg\""
   ]
  },
  {
   "cell_type": "markdown",
   "metadata": {},
   "source": [
    "### Desplazo la estructura original a lo largo de cada modo. Los modos son normalizados y luego multiplicados por -2 y 2; y así obtener distintos desplazamientos. Creando así 2 sets, c/u de 339 estructuras desplazadas (1 por c/ modo)"
   ]
  },
  {
   "cell_type": "code",
   "execution_count": 8,
   "metadata": {
    "collapsed": false,
    "scrolled": false
   },
   "outputs": [],
   "source": [
    "constant = 3\n",
    "# Ahora tengo q mover la estructura a lo largo de los modos normales, pero esto requiere rearreglar\n",
    "# los modos p/ q tengan el mismo formato q las coordenadas de los atomos\n",
    "for magnitude in [-2 2]\n",
    "    if magnitude >= 0\n",
    "        displacement = string(\"d\", magnitude)\n",
    "    else\n",
    "        magnitude_ = magnitude * -1\n",
    "        displacement = string(\"d_\", magnitude_)\n",
    "    end\n",
    "    temp1_modo_sum = Array{Float64}(natom_res[1], 3)\n",
    "    for j=1:aa3-6\n",
    "        for i=1:aa\n",
    "            modo_sum[i, 1] = modes_prt[i*3-2, j]\n",
    "            modo_sum[i, 2] = modes_prt[i*3-1, j]\n",
    "            modo_sum[i, 3] = modes_prt[i*3, j]\n",
    "        end\n",
    "# Ya tengo el modo en el formato adecuado, pero estos son p/ mover Calphas. Ahora tengo q\n",
    "# repetir sus filas p/ poder mover todos los atomos de c/ aminoacido.\n",
    "        for i=1:aa\n",
    "            if i == 1\n",
    "                temp1_modo_sum = repmat(modo_sum[i, :], natom_res[i], 1)\n",
    "                continue\n",
    "            end\n",
    "            temp2_modo_sum = repmat(modo_sum[i, :], natom_res[i], 1)\n",
    "            temp1_modo_sum = vcat(temp1_modo_sum, temp2_modo_sum)\n",
    "        end\n",
    "modo_sum = copy(temp1_modo_sum)\n",
    "# Ajusto el desplazamiento q voy a hacer\n",
    "        factorr[j] = magnitude * constant * 1/evals_prt[j]\n",
    "# Modifico las coordenadas\n",
    "        hvr_apo_atom_xyz = coordinatesmatrix(pdb_pdb)\n",
    "        new_hvr_apo_atom_xyz = hvr_apo_atom_xyz + modo_sum .* factorr[j];\n",
    "# Obtengo un nuevo frame con las coordenadas modificadas\n",
    "        new_pdb_pdb = change_coordinates(pdb_pdb, new_hvr_apo_atom_xyz)\n",
    "# Escribo el nuevo .pdb\n",
    "        pdb_hvr_apo = string(files_template, displacement, \"/\", \"mod\", j, \"_\", displacement, \"_hvr_apo.pdb\")\n",
    "        write(pdb_hvr_apo, new_pdb_pdb, PDBFile)\n",
    "    end\n",
    "end"
   ]
  },
  {
   "cell_type": "markdown",
   "metadata": {},
   "source": [
    "### Ahora calculo los volumenes de los huecos corto, portal, largo y whole p/ los 2 sets de 345 estructuras desplazadas. Y así junto 2 sets (1 por c/ magnitud de desplazamiento) de 4 vectores (1 por c/ hueco) de 345 elementos c/u (1 elemento -> 1 volumen de 1 hueco de 1 estructura desplazada en alguna de sus coordenadas x,y,z)\n",
    "### Luego le resto los volumenes originales de los huecos corto, portal, largo y whole a c/u de los elementos de los 8 vectores y así obtengo 2 sets de 4 vectores gradiente en base de coordenadas cartesianas."
   ]
  },
  {
   "cell_type": "code",
   "execution_count": 9,
   "metadata": {
    "collapsed": false
   },
   "outputs": [
    {
     "name": "stderr",
     "output_type": "stream",
     "text": [
      "[chemfiles] Unknown PDB record: \n"
     ]
    },
    {
     "name": "stdout",
     "output_type": "stream",
     "text": [
      "1337.79\n"
     ]
    },
    {
     "name": "stderr",
     "output_type": "stream",
     "text": [
      "[chemfiles] Unknown PDB record: \n",
      "[chemfiles] Unknown PDB record: \n"
     ]
    },
    {
     "name": "stdout",
     "output_type": "stream",
     "text": [
      "1337.79\n"
     ]
    },
    {
     "name": "stderr",
     "output_type": "stream",
     "text": [
      "[chemfiles] Unknown PDB record: \n"
     ]
    }
   ],
   "source": [
    "# Obtengo los vectores de volúmenes p/ los 4 huecos con desplazamientos negativos y positivos\n",
    "for magnitude in [-2; 2]\n",
    "    if magnitude >= 0\n",
    "        magnitude_ = magnitude\n",
    "        displacement = string(\"d\", magnitude)\n",
    "    else\n",
    "        magnitude_ = magnitude * -1\n",
    "        displacement = string(\"d_\", magnitude_)\n",
    "    end\n",
    "    # Preparo variables\n",
    "    ndd_input_filename = string(files_template, displacement, \"/inndd_\", prt_name, \"_\", displacement)\n",
    "    ndd_output_filename = string(files_template, displacement, \"/1_outndd_\", prt_name, \"_\", displacement)\n",
    "    \n",
    "    # WHOLE\n",
    "    global vol_ndd = symbol(\"vol_ndd_whole_\", displacement)\n",
    "    global gdte_ndd = symbol(\"gdte_ndd_whole_\", displacement)  \n",
    "    # Calculo el pocket        \n",
    "    run(`ANA $pdb_filename -c $conf_prt_whole -I $ndd_input_filename -O $ndd_output_filename`);\n",
    "    # Leo\n",
    "    ndd_output = readdlm(ndd_output_filename, header=true)[1][:, 2]\n",
    "    @eval ($vol_ndd = $ndd_output)\n",
    "    @eval ($gdte_ndd = $ndd_output .- parse(Float64, readall(`ANA $pdb_filename -c $conf_prt_whole`)[10:end-2]))\n",
    "end"
   ]
  },
  {
   "cell_type": "markdown",
   "metadata": {},
   "source": [
    "### Finalmente, obtengo el vector gradiente"
   ]
  },
  {
   "cell_type": "code",
   "execution_count": 10,
   "metadata": {
    "collapsed": false
   },
   "outputs": [],
   "source": [
    "# Ahora obtengo el gradiente entre los desplazamientos negativo y positivo.\n",
    "gdte_whole = (vol_ndd_whole_d2 - vol_ndd_whole_d_2) .* evals_prt;\n",
    "\n",
    "# Los vectores tienen el (delta)volumen. Puedo elegir normalizarlos o dividirlos por el desplazamiento\n",
    "# o lo q sea. Los normalizo\n",
    "gdte_whole = gdte_whole / norm(gdte_whole);"
   ]
  },
  {
   "cell_type": "markdown",
   "metadata": {},
   "source": [
    "### Determino los aminoácidos de las paredes del hueco, estableciendo un mínimo en el valor de su elemento correspondiente en el vector gradiente. 0.1 suele ser un buen mínimo."
   ]
  },
  {
   "cell_type": "code",
   "execution_count": 11,
   "metadata": {
    "collapsed": false
   },
   "outputs": [
    {
     "name": "stdout",
     "output_type": "stream",
     "text": [
      "[25,28,29,32,47,48,49,50,84,107,127,129,131,146,148,149,183]\n",
      "\n",
      " gradient vector wall residues indices:\n",
      "[73,74,75,82,83,84,85,86,87,94,95,96,139,140,141,142,143,144,145,146,147,148,149,150,250,251,252,319,320,321,379,380,381,385,386,387,391,392,393,436,437,438,442,443,444,445,446,447,547,548,549]\n"
     ]
    }
   ],
   "source": [
    "modes_prt_1 = Array{Float64}(aa3, aa3-6);\n",
    "# Arreglo el pbma de 0\n",
    "for i=1:size(modes_prt)[1]\n",
    "    for j=1:size(modes_prt)[2]\n",
    "        if modes_prt[i, j] == 0\n",
    "            modes_prt_1[i, j] = 0.00001\n",
    "        else\n",
    "            modes_prt_1[i, j] = modes_prt[i, j]\n",
    "        end\n",
    "    end\n",
    "end\n",
    "\n",
    "# Paso a cartesianas y luego a aminoácidos\n",
    "aa_gdte_whole = tognm(modes_prt*gdte_whole)\n",
    "\n",
    "# 2 plots p/ decidir a ojo\n",
    "plot(DataFrame(delta=sort(aa_gdte_whole, rev=true)), Geom.line, y=\"delta\",\n",
    "Guide.xticks(ticks=collect(1:1:25)), Coord.cartesian(xmin=1, xmax=25))\n",
    "\n",
    "plot(DataFrame(delta=aa_gdte_whole), Geom.bar, y=\"delta\",\n",
    "Guide.xticks(ticks=collect(1:10:110)), Coord.cartesian(xmin=1, xmax=110))\n",
    "\n",
    "mask_gdte_whole = aa_gdte_whole .>= 0.1;\n",
    "indices_gdte_whole = find(x-> x==true, mask_gdte_whole)\n",
    "wall_whole_nres = length(indices_gdte_whole)\n",
    "println(indices_gdte_whole)\n",
    "\n",
    "# Tengo los indices de los aa's del hueco. Ahora tengo q pasarlos a índices de elementos de modos\n",
    "modeind_gdte_whole = reshape(mapslices(x -> [x*3-2; x*3-1; x*3], transpose(indices_gdte_whole), 1),\n",
    "    3*wall_whole_nres)\n",
    "println(\"\\n gradient vector wall residues indices:\\n\", modeind_gdte_whole)\n",
    "\n",
    "# Subsetteo los modos p/ aislar los componentes de los aa's del hueco\n",
    "modes_prt_1_whole = modes_prt_1[modeind_gdte_whole, :];\n",
    "modes_prt_1_whole_nonnorm = modes_prt_1_whole\n",
    "modes_prt_1_whole = mapslices(x -> x/norm(x), modes_prt_1_whole, 1);"
   ]
  },
  {
   "cell_type": "markdown",
   "metadata": {},
   "source": [
    "### Gradiente obtenido en coordenadas cartesianas"
   ]
  },
  {
   "cell_type": "code",
   "execution_count": 12,
   "metadata": {
    "collapsed": false
   },
   "outputs": [],
   "source": [
    "# Nuevo template p/ pdbs de salida\n",
    "files_template = \"/home/german/labo/16/exs/cavities/cartesian/1hvr_apo/\"\n",
    "constant = 0.5\n",
    "xyz = [\"x\"; \"y\"; \"z\"]\n",
    "\n",
    "for magnitude in [-2 2]\n",
    "    if magnitude >= 0\n",
    "        displacement = string(\"d\", magnitude)\n",
    "    else\n",
    "        magnitude_ = magnitude * -1\n",
    "        displacement = string(\"d_\", magnitude_)\n",
    "    end\n",
    "    \n",
    "    for j = 1:aa\n",
    "        for k = 1:3\n",
    "            modo_sum = zeros(Float64, sum(natom_res), 3)\n",
    "# Ajusto el desplazamiento q voy a hacer\n",
    "            disp = repeat([ magnitude * constant ], inner = [natom_res[j]])\n",
    "            modo_sum[(sum(natom_res[1:j-1])+1):sum(natom_res[1:j]), k] = disp\n",
    "# Modifico las coordenadas\n",
    "            atom_xyz = coordinatesmatrix(pdb_pdb)\n",
    "            new_atom_xyz = atom_xyz + modo_sum\n",
    "# Obtengo un nuevo frame con las coordenadas modificadas\n",
    "            new_pdb_pdb = change_coordinates(pdb_pdb, new_atom_xyz)\n",
    "# Escribo el nuevo .pdb\n",
    "            pdb_hvr_apo = string(files_template, displacement, \"/\", \"xyz-\", j, \"-\", xyz[k], \"_\", displacement, \"_hvr_apo.pdb\")\n",
    "            write(pdb_hvr_apo, new_pdb_pdb, PDBFile)\n",
    "        end\n",
    "    end\n",
    "end"
   ]
  },
  {
   "cell_type": "code",
   "execution_count": 13,
   "metadata": {
    "collapsed": false
   },
   "outputs": [
    {
     "name": "stderr",
     "output_type": "stream",
     "text": [
      "[chemfiles] Unknown PDB record: \n"
     ]
    },
    {
     "name": "stdout",
     "output_type": "stream",
     "text": [
      "1337.79\n"
     ]
    },
    {
     "name": "stderr",
     "output_type": "stream",
     "text": [
      "[chemfiles] Unknown PDB record: \n",
      "[chemfiles] Unknown PDB record: \n"
     ]
    },
    {
     "name": "stdout",
     "output_type": "stream",
     "text": [
      "1337.79\n"
     ]
    },
    {
     "name": "stderr",
     "output_type": "stream",
     "text": [
      "[chemfiles] Unknown PDB record: \n"
     ]
    }
   ],
   "source": [
    "for magnitude in [-2; 2]\n",
    "    if magnitude >= 0\n",
    "        magnitude_ = magnitude\n",
    "        displacement = string(\"d\", magnitude)\n",
    "    else\n",
    "        magnitude_ = magnitude * -1\n",
    "        displacement = string(\"d_\", magnitude_)\n",
    "    end\n",
    "    # Preparo variables\n",
    "    ndd_input_filename = string(files_template, displacement, \"/inndd_\", prt_name, \"_\", displacement)\n",
    "    ndd_output_filename = string(files_template, displacement, \"/outndd_\", prt_name, \"_\", displacement)\n",
    "    \n",
    "    # WHOLE\n",
    "    global vol_ndd = symbol(\"vol_ndd_whole_\", displacement)\n",
    "    global gdte_ndd = symbol(\"gdte_ndd_whole_\", displacement)  \n",
    "    # Calculo el pocket        \n",
    "    run(`ANA $pdb_filename -c $conf_prt_whole -I $ndd_input_filename -O $ndd_output_filename`);\n",
    "    # Leo\n",
    "    ndd_output = readdlm(ndd_output_filename, header=true)[1][:, 2]\n",
    "    @eval ($vol_ndd = $ndd_output)\n",
    "    @eval ($gdte_ndd = $ndd_output .- parse(Float64, readall(`ANA $pdb_filename -c $conf_prt_whole`)[10:end-2]))\n",
    "end\n",
    "\n",
    "# Ahora obtengo el gradiente entre los desplazamientos negativo y positivo.\n",
    "cart_gdte_xyz = (vol_ndd_whole_d2 - vol_ndd_whole_d_2)\n",
    "# Los vectores tienen el (delta)volumen. Puedo elegir normalizarlos o dividirlos por el desplazamiento\n",
    "# o lo q sea. Lo normalizo\n",
    "cart_gdte_xyz = cart_gdte_xyz / norm(cart_gdte_xyz);"
   ]
  },
  {
   "cell_type": "markdown",
   "metadata": {},
   "source": [
    "#### Comparación ∇PCA Vs ∇xyz"
   ]
  },
  {
   "cell_type": "code",
   "execution_count": 14,
   "metadata": {
    "collapsed": false,
    "scrolled": true
   },
   "outputs": [
    {
     "ename": "LoadError",
     "evalue": "UndefVarError: cart_gdte_whole not defined",
     "output_type": "error",
     "traceback": [
      "UndefVarError: cart_gdte_whole not defined",
      ""
     ]
    }
   ],
   "source": [
    "dot(cart_gdte_whole, cart_gdte_xyz)"
   ]
  },
  {
   "cell_type": "code",
   "execution_count": null,
   "metadata": {
    "collapsed": true
   },
   "outputs": [],
   "source": []
  }
 ],
 "metadata": {
  "anaconda-cloud": {},
  "kernelspec": {
   "display_name": "Julia 0.4.7",
   "language": "julia",
   "name": "julia-0.4"
  },
  "language_info": {
   "file_extension": ".jl",
   "mimetype": "application/julia",
   "name": "julia",
   "version": "0.4.7"
  }
 },
 "nbformat": 4,
 "nbformat_minor": 0
}
